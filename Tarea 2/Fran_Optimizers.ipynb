{
  "nbformat": 4,
  "nbformat_minor": 0,
  "metadata": {
    "colab": {
      "name": "DL_03_Optimizers.ipynb",
      "provenance": [],
      "collapsed_sections": [
        "oN6aBWNOWrY7",
        "7AnH6VY-W09n"
      ],
      "include_colab_link": true
    },
    "kernelspec": {
      "name": "python3",
      "display_name": "Python 3"
    },
    "accelerator": "GPU"
  },
  "cells": [
    {
      "cell_type": "markdown",
      "metadata": {
        "id": "view-in-github",
        "colab_type": "text"
      },
      "source": [
        "<a href=\"https://colab.research.google.com/github/MantisOrquida/Clase-aprendizaje-profundo/blob/main/Tarea%202/Fran_Optimizers.ipynb\" target=\"_parent\"><img src=\"https://colab.research.google.com/assets/colab-badge.svg\" alt=\"Open In Colab\"/></a>"
      ]
    },
    {
      "cell_type": "code",
      "metadata": {
        "id": "auaqKUAuFRwJ"
      },
      "source": [
        "import numpy as np\n",
        "import pandas as pd\n",
        "import matplotlib.pyplot as plt\n",
        "from random import random"
      ],
      "execution_count": null,
      "outputs": []
    },
    {
      "cell_type": "code",
      "metadata": {
        "id": "R7BOD99kHvAZ"
      },
      "source": [
        "# Usaremos la base de datos: Beijing Multi-Site Air-Quality Data Data Set,\n",
        "# la cual puede ser obtenida desde https://archive.ics.uci.edu/ml/datasets/Beijing+Multi-Site+Air-Quality+Data\n",
        "# (revisar la página para más detalles sobre los datos)\n",
        "# Se ha proporcionado un archivo csv con la información obtenida de la estación\n",
        "# de monitoreo Aotizhongxin, el cual contiene 35,064 registros.\n",
        "\n",
        "# El objetivo es poder predecir la concetración de PM2.5 y de PM10 a partir de las\n",
        "# variables año, mes, día, hora, temperatura, presión, punto de rocío, \n",
        "# precipitación y velocidad del viento."
      ],
      "execution_count": null,
      "outputs": []
    },
    {
      "cell_type": "code",
      "metadata": {
        "id": "kB4uTQwSFkVr",
        "colab": {
          "resources": {
            "http://localhost:8080/nbextensions/google.colab/files.js": {
              "data": "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",
              "ok": true,
              "headers": [
                [
                  "content-type",
                  "application/javascript"
                ]
              ],
              "status": 200,
              "status_text": "OK"
            }
          },
          "base_uri": "https://localhost:8080/",
          "height": 81
        },
        "outputId": "beaa2849-3715-49e4-93c4-9a2ab5d79f76"
      },
      "source": [
        "# Requiered to select a file to be imported\n",
        "from google.colab import files\n",
        "uploaded = files.upload()"
      ],
      "execution_count": null,
      "outputs": [
        {
          "output_type": "display_data",
          "data": {
            "text/html": [
              "\n",
              "     <input type=\"file\" id=\"files-c2794c10-eb78-40ee-932d-5a350c1925f1\" name=\"files[]\" multiple disabled\n",
              "        style=\"border:none\" />\n",
              "     <output id=\"result-c2794c10-eb78-40ee-932d-5a350c1925f1\">\n",
              "      Upload widget is only available when the cell has been executed in the\n",
              "      current browser session. Please rerun this cell to enable.\n",
              "      </output>\n",
              "      <script src=\"/nbextensions/google.colab/files.js\"></script> "
            ],
            "text/plain": [
              "<IPython.core.display.HTML object>"
            ]
          },
          "metadata": {
            "tags": []
          }
        },
        {
          "output_type": "stream",
          "text": [
            "Saving PRSA_Aotizhongxin.csv to PRSA_Aotizhongxin (1).csv\n"
          ],
          "name": "stdout"
        }
      ]
    },
    {
      "cell_type": "markdown",
      "metadata": {
        "id": "oN6aBWNOWrY7"
      },
      "source": [
        "# Part 1: Load data into Colab"
      ]
    },
    {
      "cell_type": "code",
      "metadata": {
        "id": "JwhYkkpoGG8y",
        "colab": {
          "base_uri": "https://localhost:8080/"
        },
        "outputId": "98b50344-b610-498b-8cfd-f7ad5dbb8f16"
      },
      "source": [
        "# Import file and store it in a data frame\n",
        "import io\n",
        "df = pd.read_csv(io.BytesIO(uploaded['PRSA_Aotizhongxin.csv'])) # Cambia al nombre del archivo que cargues\n",
        "df.dropna(inplace=True)\n",
        "df\n",
        "# Quedan 31,815 registros despues de eliminar NaN's"
      ],
      "execution_count": null,
      "outputs": [
        {
          "output_type": "execute_result",
          "data": {
            "text/html": [
              "<div>\n",
              "<style scoped>\n",
              "    .dataframe tbody tr th:only-of-type {\n",
              "        vertical-align: middle;\n",
              "    }\n",
              "\n",
              "    .dataframe tbody tr th {\n",
              "        vertical-align: top;\n",
              "    }\n",
              "\n",
              "    .dataframe thead th {\n",
              "        text-align: right;\n",
              "    }\n",
              "</style>\n",
              "<table border=\"1\" class=\"dataframe\">\n",
              "  <thead>\n",
              "    <tr style=\"text-align: right;\">\n",
              "      <th></th>\n",
              "      <th>No</th>\n",
              "      <th>year</th>\n",
              "      <th>month</th>\n",
              "      <th>day</th>\n",
              "      <th>hour</th>\n",
              "      <th>PM2.5</th>\n",
              "      <th>PM10</th>\n",
              "      <th>SO2</th>\n",
              "      <th>NO2</th>\n",
              "      <th>CO</th>\n",
              "      <th>O3</th>\n",
              "      <th>TEMP</th>\n",
              "      <th>PRES</th>\n",
              "      <th>DEWP</th>\n",
              "      <th>RAIN</th>\n",
              "      <th>wd</th>\n",
              "      <th>WSPM</th>\n",
              "      <th>station</th>\n",
              "    </tr>\n",
              "  </thead>\n",
              "  <tbody>\n",
              "    <tr>\n",
              "      <th>0</th>\n",
              "      <td>1</td>\n",
              "      <td>2013</td>\n",
              "      <td>3</td>\n",
              "      <td>1</td>\n",
              "      <td>0</td>\n",
              "      <td>4.0</td>\n",
              "      <td>4.0</td>\n",
              "      <td>4.0</td>\n",
              "      <td>7.0</td>\n",
              "      <td>300.0</td>\n",
              "      <td>77.0</td>\n",
              "      <td>-0.7</td>\n",
              "      <td>1023.0</td>\n",
              "      <td>-18.8</td>\n",
              "      <td>0.0</td>\n",
              "      <td>NNW</td>\n",
              "      <td>4.4</td>\n",
              "      <td>Aotizhongxin</td>\n",
              "    </tr>\n",
              "    <tr>\n",
              "      <th>1</th>\n",
              "      <td>2</td>\n",
              "      <td>2013</td>\n",
              "      <td>3</td>\n",
              "      <td>1</td>\n",
              "      <td>1</td>\n",
              "      <td>8.0</td>\n",
              "      <td>8.0</td>\n",
              "      <td>4.0</td>\n",
              "      <td>7.0</td>\n",
              "      <td>300.0</td>\n",
              "      <td>77.0</td>\n",
              "      <td>-1.1</td>\n",
              "      <td>1023.2</td>\n",
              "      <td>-18.2</td>\n",
              "      <td>0.0</td>\n",
              "      <td>N</td>\n",
              "      <td>4.7</td>\n",
              "      <td>Aotizhongxin</td>\n",
              "    </tr>\n",
              "    <tr>\n",
              "      <th>2</th>\n",
              "      <td>3</td>\n",
              "      <td>2013</td>\n",
              "      <td>3</td>\n",
              "      <td>1</td>\n",
              "      <td>2</td>\n",
              "      <td>7.0</td>\n",
              "      <td>7.0</td>\n",
              "      <td>5.0</td>\n",
              "      <td>10.0</td>\n",
              "      <td>300.0</td>\n",
              "      <td>73.0</td>\n",
              "      <td>-1.1</td>\n",
              "      <td>1023.5</td>\n",
              "      <td>-18.2</td>\n",
              "      <td>0.0</td>\n",
              "      <td>NNW</td>\n",
              "      <td>5.6</td>\n",
              "      <td>Aotizhongxin</td>\n",
              "    </tr>\n",
              "    <tr>\n",
              "      <th>3</th>\n",
              "      <td>4</td>\n",
              "      <td>2013</td>\n",
              "      <td>3</td>\n",
              "      <td>1</td>\n",
              "      <td>3</td>\n",
              "      <td>6.0</td>\n",
              "      <td>6.0</td>\n",
              "      <td>11.0</td>\n",
              "      <td>11.0</td>\n",
              "      <td>300.0</td>\n",
              "      <td>72.0</td>\n",
              "      <td>-1.4</td>\n",
              "      <td>1024.5</td>\n",
              "      <td>-19.4</td>\n",
              "      <td>0.0</td>\n",
              "      <td>NW</td>\n",
              "      <td>3.1</td>\n",
              "      <td>Aotizhongxin</td>\n",
              "    </tr>\n",
              "    <tr>\n",
              "      <th>4</th>\n",
              "      <td>5</td>\n",
              "      <td>2013</td>\n",
              "      <td>3</td>\n",
              "      <td>1</td>\n",
              "      <td>4</td>\n",
              "      <td>3.0</td>\n",
              "      <td>3.0</td>\n",
              "      <td>12.0</td>\n",
              "      <td>12.0</td>\n",
              "      <td>300.0</td>\n",
              "      <td>72.0</td>\n",
              "      <td>-2.0</td>\n",
              "      <td>1025.2</td>\n",
              "      <td>-19.5</td>\n",
              "      <td>0.0</td>\n",
              "      <td>N</td>\n",
              "      <td>2.0</td>\n",
              "      <td>Aotizhongxin</td>\n",
              "    </tr>\n",
              "    <tr>\n",
              "      <th>...</th>\n",
              "      <td>...</td>\n",
              "      <td>...</td>\n",
              "      <td>...</td>\n",
              "      <td>...</td>\n",
              "      <td>...</td>\n",
              "      <td>...</td>\n",
              "      <td>...</td>\n",
              "      <td>...</td>\n",
              "      <td>...</td>\n",
              "      <td>...</td>\n",
              "      <td>...</td>\n",
              "      <td>...</td>\n",
              "      <td>...</td>\n",
              "      <td>...</td>\n",
              "      <td>...</td>\n",
              "      <td>...</td>\n",
              "      <td>...</td>\n",
              "      <td>...</td>\n",
              "    </tr>\n",
              "    <tr>\n",
              "      <th>35059</th>\n",
              "      <td>35060</td>\n",
              "      <td>2017</td>\n",
              "      <td>2</td>\n",
              "      <td>28</td>\n",
              "      <td>19</td>\n",
              "      <td>12.0</td>\n",
              "      <td>29.0</td>\n",
              "      <td>5.0</td>\n",
              "      <td>35.0</td>\n",
              "      <td>400.0</td>\n",
              "      <td>95.0</td>\n",
              "      <td>12.5</td>\n",
              "      <td>1013.5</td>\n",
              "      <td>-16.2</td>\n",
              "      <td>0.0</td>\n",
              "      <td>NW</td>\n",
              "      <td>2.4</td>\n",
              "      <td>Aotizhongxin</td>\n",
              "    </tr>\n",
              "    <tr>\n",
              "      <th>35060</th>\n",
              "      <td>35061</td>\n",
              "      <td>2017</td>\n",
              "      <td>2</td>\n",
              "      <td>28</td>\n",
              "      <td>20</td>\n",
              "      <td>13.0</td>\n",
              "      <td>37.0</td>\n",
              "      <td>7.0</td>\n",
              "      <td>45.0</td>\n",
              "      <td>500.0</td>\n",
              "      <td>81.0</td>\n",
              "      <td>11.6</td>\n",
              "      <td>1013.6</td>\n",
              "      <td>-15.1</td>\n",
              "      <td>0.0</td>\n",
              "      <td>WNW</td>\n",
              "      <td>0.9</td>\n",
              "      <td>Aotizhongxin</td>\n",
              "    </tr>\n",
              "    <tr>\n",
              "      <th>35061</th>\n",
              "      <td>35062</td>\n",
              "      <td>2017</td>\n",
              "      <td>2</td>\n",
              "      <td>28</td>\n",
              "      <td>21</td>\n",
              "      <td>16.0</td>\n",
              "      <td>37.0</td>\n",
              "      <td>10.0</td>\n",
              "      <td>66.0</td>\n",
              "      <td>700.0</td>\n",
              "      <td>58.0</td>\n",
              "      <td>10.8</td>\n",
              "      <td>1014.2</td>\n",
              "      <td>-13.3</td>\n",
              "      <td>0.0</td>\n",
              "      <td>NW</td>\n",
              "      <td>1.1</td>\n",
              "      <td>Aotizhongxin</td>\n",
              "    </tr>\n",
              "    <tr>\n",
              "      <th>35062</th>\n",
              "      <td>35063</td>\n",
              "      <td>2017</td>\n",
              "      <td>2</td>\n",
              "      <td>28</td>\n",
              "      <td>22</td>\n",
              "      <td>21.0</td>\n",
              "      <td>44.0</td>\n",
              "      <td>12.0</td>\n",
              "      <td>87.0</td>\n",
              "      <td>700.0</td>\n",
              "      <td>35.0</td>\n",
              "      <td>10.5</td>\n",
              "      <td>1014.4</td>\n",
              "      <td>-12.9</td>\n",
              "      <td>0.0</td>\n",
              "      <td>NNW</td>\n",
              "      <td>1.2</td>\n",
              "      <td>Aotizhongxin</td>\n",
              "    </tr>\n",
              "    <tr>\n",
              "      <th>35063</th>\n",
              "      <td>35064</td>\n",
              "      <td>2017</td>\n",
              "      <td>2</td>\n",
              "      <td>28</td>\n",
              "      <td>23</td>\n",
              "      <td>19.0</td>\n",
              "      <td>31.0</td>\n",
              "      <td>10.0</td>\n",
              "      <td>79.0</td>\n",
              "      <td>600.0</td>\n",
              "      <td>42.0</td>\n",
              "      <td>8.6</td>\n",
              "      <td>1014.1</td>\n",
              "      <td>-15.9</td>\n",
              "      <td>0.0</td>\n",
              "      <td>NNE</td>\n",
              "      <td>1.3</td>\n",
              "      <td>Aotizhongxin</td>\n",
              "    </tr>\n",
              "  </tbody>\n",
              "</table>\n",
              "<p>31815 rows × 18 columns</p>\n",
              "</div>"
            ],
            "text/plain": [
              "          No  year  month  day  hour  ...  DEWP  RAIN   wd  WSPM       station\n",
              "0          1  2013      3    1     0  ... -18.8   0.0  NNW   4.4  Aotizhongxin\n",
              "1          2  2013      3    1     1  ... -18.2   0.0    N   4.7  Aotizhongxin\n",
              "2          3  2013      3    1     2  ... -18.2   0.0  NNW   5.6  Aotizhongxin\n",
              "3          4  2013      3    1     3  ... -19.4   0.0   NW   3.1  Aotizhongxin\n",
              "4          5  2013      3    1     4  ... -19.5   0.0    N   2.0  Aotizhongxin\n",
              "...      ...   ...    ...  ...   ...  ...   ...   ...  ...   ...           ...\n",
              "35059  35060  2017      2   28    19  ... -16.2   0.0   NW   2.4  Aotizhongxin\n",
              "35060  35061  2017      2   28    20  ... -15.1   0.0  WNW   0.9  Aotizhongxin\n",
              "35061  35062  2017      2   28    21  ... -13.3   0.0   NW   1.1  Aotizhongxin\n",
              "35062  35063  2017      2   28    22  ... -12.9   0.0  NNW   1.2  Aotizhongxin\n",
              "35063  35064  2017      2   28    23  ... -15.9   0.0  NNE   1.3  Aotizhongxin\n",
              "\n",
              "[31815 rows x 18 columns]"
            ]
          },
          "metadata": {
            "tags": []
          },
          "execution_count": 33
        }
      ]
    },
    {
      "cell_type": "code",
      "metadata": {
        "colab": {
          "base_uri": "https://localhost:8080/"
        },
        "id": "ik6Kh0rgg5u0",
        "outputId": "4f135c20-563b-4aa9-d736-c03ca3e27e33"
      },
      "source": [
        "W = pd.get_dummies(df['wd'], prefix='wd')\n",
        "print(W.head())\n",
        "W['PM2.5'] = df['PM2.5']\n",
        "W['PM10'] = df['PM10']\n",
        "W['SO2'] = df['PM2.5']\n",
        "W['NO2'] = df['PM2.5']\n",
        "W['CO'] = df['PM2.5']\n",
        "W['O3'] = df['PM2.5']\n",
        "print(W.corr(method= 'pearson'))"
      ],
      "execution_count": null,
      "outputs": [
        {
          "output_type": "stream",
          "text": [
            "   wd_E  wd_ENE  wd_ESE  wd_N  wd_NE  ...  wd_SSW  wd_SW  wd_W  wd_WNW  wd_WSW\n",
            "0     0       0       0     0      0  ...       0      0     0       0       0\n",
            "1     0       0       0     1      0  ...       0      0     0       0       0\n",
            "2     0       0       0     0      0  ...       0      0     0       0       0\n",
            "3     0       0       0     0      0  ...       0      0     0       0       0\n",
            "4     0       0       0     1      0  ...       0      0     0       0       0\n",
            "\n",
            "[5 rows x 16 columns]\n",
            "            wd_E    wd_ENE    wd_ESE  ...       NO2        CO        O3\n",
            "wd_E    1.000000 -0.101553 -0.065770  ...  0.088728  0.088728  0.088728\n",
            "wd_ENE -0.101553  1.000000 -0.082194  ...  0.099292  0.099292  0.099292\n",
            "wd_ESE -0.065770 -0.082194  1.000000  ...  0.062765  0.062765  0.062765\n",
            "wd_N   -0.071175 -0.088949 -0.057607  ... -0.085490 -0.085490 -0.085490\n",
            "wd_NE  -0.116913 -0.146109 -0.094627  ...  0.056573  0.056573  0.056573\n",
            "wd_NNE -0.078206 -0.097736 -0.063298  ... -0.051872 -0.051872 -0.051872\n",
            "wd_NNW -0.061523 -0.076887 -0.049796  ... -0.123506 -0.123506 -0.123506\n",
            "wd_NW  -0.067939 -0.084905 -0.054988  ... -0.134247 -0.134247 -0.134247\n",
            "wd_S   -0.056778 -0.070957 -0.045955  ...  0.028567  0.028567  0.028567\n",
            "wd_SE  -0.057504 -0.071863 -0.046542  ...  0.040182  0.040182  0.040182\n",
            "wd_SSE -0.049848 -0.062296 -0.040346  ...  0.034150  0.034150  0.034150\n",
            "wd_SSW -0.072242 -0.090283 -0.058471  ...  0.014545  0.014545  0.014545\n",
            "wd_SW  -0.092773 -0.115940 -0.075088  ... -0.009006 -0.009006 -0.009006\n",
            "wd_W   -0.053154 -0.066427 -0.043021  ... -0.016076 -0.016076 -0.016076\n",
            "wd_WNW -0.051326 -0.064143 -0.041542  ... -0.061330 -0.061330 -0.061330\n",
            "wd_WSW -0.073732 -0.092145 -0.059677  ... -0.023084 -0.023084 -0.023084\n",
            "PM2.5   0.088728  0.099292  0.062765  ...  1.000000  1.000000  1.000000\n",
            "PM10    0.061779  0.066338  0.045911  ...  0.878741  0.878741  0.878741\n",
            "SO2     0.088728  0.099292  0.062765  ...  1.000000  1.000000  1.000000\n",
            "NO2     0.088728  0.099292  0.062765  ...  1.000000  1.000000  1.000000\n",
            "CO      0.088728  0.099292  0.062765  ...  1.000000  1.000000  1.000000\n",
            "O3      0.088728  0.099292  0.062765  ...  1.000000  1.000000  1.000000\n",
            "\n",
            "[22 rows x 22 columns]\n"
          ],
          "name": "stdout"
        }
      ]
    },
    {
      "cell_type": "code",
      "metadata": {
        "colab": {
          "base_uri": "https://localhost:8080/"
        },
        "id": "23qUY_F1UeQD",
        "outputId": "7d1a3f90-9ff2-4fd1-8237-63e29e1e78fd"
      },
      "source": [
        "def histogram_intersection(a, b):\n",
        "\n",
        "    v = np.minimum(a, b).sum().round(decimals=1)\n",
        "\n",
        "    return v\n",
        "\n",
        "print(df[['PM2.5', 'TEMP', 'PRES', 'DEWP', 'RAIN', 'WSPM' ]].corr(method= 'pearson'))\n",
        "print(df[['PM10', 'TEMP', 'PRES', 'DEWP', 'RAIN', 'WSPM' ]].corr(method= 'pearson'))\n",
        "print(df[['SO2', 'TEMP', 'PRES', 'DEWP', 'RAIN', 'WSPM' ]].corr(method= 'pearson'))\n",
        "print(df[['NO2', 'TEMP', 'PRES', 'DEWP', 'RAIN', 'WSPM' ]].corr(method= 'pearson'))\n",
        "print(df[['CO', 'TEMP', 'PRES', 'DEWP', 'RAIN', 'WSPM' ]].corr(method= 'pearson'))\n",
        "print(df[['O3', 'TEMP', 'PRES', 'DEWP', 'RAIN', 'WSPM' ]].corr(method= 'pearson'))\n"
      ],
      "execution_count": null,
      "outputs": [
        {
          "output_type": "stream",
          "text": [
            "          PM2.5      TEMP      PRES      DEWP      RAIN      WSPM\n",
            "PM2.5  1.000000 -0.125711 -0.008697  0.125706 -0.020498 -0.286331\n",
            "TEMP  -0.125711  1.000000 -0.828165  0.821037  0.037579  0.031122\n",
            "PRES  -0.008697 -0.828165  1.000000 -0.774608 -0.064901  0.076706\n",
            "DEWP   0.125706  0.821037 -0.774608  1.000000  0.086918 -0.311576\n",
            "RAIN  -0.020498  0.037579 -0.064901  0.086918  1.000000  0.021354\n",
            "WSPM  -0.286331  0.031122  0.076706 -0.311576  0.021354  1.000000\n",
            "          PM10      TEMP      PRES      DEWP      RAIN      WSPM\n",
            "PM10  1.000000 -0.110371 -0.034957  0.063988 -0.032775 -0.188684\n",
            "TEMP -0.110371  1.000000 -0.828165  0.821037  0.037579  0.031122\n",
            "PRES -0.034957 -0.828165  1.000000 -0.774608 -0.064901  0.076706\n",
            "DEWP  0.063988  0.821037 -0.774608  1.000000  0.086918 -0.311576\n",
            "RAIN -0.032775  0.037579 -0.064901  0.086918  1.000000  0.021354\n",
            "WSPM -0.188684  0.031122  0.076706 -0.311576  0.021354  1.000000\n",
            "           SO2      TEMP      PRES      DEWP      RAIN      WSPM\n",
            "SO2   1.000000 -0.353431  0.204208 -0.282847 -0.044462 -0.113536\n",
            "TEMP -0.353431  1.000000 -0.828165  0.821037  0.037579  0.031122\n",
            "PRES  0.204208 -0.828165  1.000000 -0.774608 -0.064901  0.076706\n",
            "DEWP -0.282847  0.821037 -0.774608  1.000000  0.086918 -0.311576\n",
            "RAIN -0.044462  0.037579 -0.064901  0.086918  1.000000  0.021354\n",
            "WSPM -0.113536  0.031122  0.076706 -0.311576  0.021354  1.000000\n",
            "           NO2      TEMP      PRES      DEWP      RAIN      WSPM\n",
            "NO2   1.000000 -0.244404  0.085013  0.064514 -0.043205 -0.494955\n",
            "TEMP -0.244404  1.000000 -0.828165  0.821037  0.037579  0.031122\n",
            "PRES  0.085013 -0.828165  1.000000 -0.774608 -0.064901  0.076706\n",
            "DEWP  0.064514  0.821037 -0.774608  1.000000  0.086918 -0.311576\n",
            "RAIN -0.043205  0.037579 -0.064901  0.086918  1.000000  0.021354\n",
            "WSPM -0.494955  0.031122  0.076706 -0.311576  0.021354  1.000000\n",
            "            CO      TEMP      PRES      DEWP      RAIN      WSPM\n",
            "CO    1.000000 -0.364495  0.214581 -0.096809 -0.017992 -0.283877\n",
            "TEMP -0.364495  1.000000 -0.828165  0.821037  0.037579  0.031122\n",
            "PRES  0.214581 -0.828165  1.000000 -0.774608 -0.064901  0.076706\n",
            "DEWP -0.096809  0.821037 -0.774608  1.000000  0.086918 -0.311576\n",
            "RAIN -0.017992  0.037579 -0.064901  0.086918  1.000000  0.021354\n",
            "WSPM -0.283877  0.031122  0.076706 -0.311576  0.021354  1.000000\n",
            "            O3      TEMP      PRES      DEWP      RAIN      WSPM\n",
            "O3    1.000000  0.588734 -0.423276  0.291221  0.024569  0.344954\n",
            "TEMP  0.588734  1.000000 -0.828165  0.821037  0.037579  0.031122\n",
            "PRES -0.423276 -0.828165  1.000000 -0.774608 -0.064901  0.076706\n",
            "DEWP  0.291221  0.821037 -0.774608  1.000000  0.086918 -0.311576\n",
            "RAIN  0.024569  0.037579 -0.064901  0.086918  1.000000  0.021354\n",
            "WSPM  0.344954  0.031122  0.076706 -0.311576  0.021354  1.000000\n"
          ],
          "name": "stdout"
        }
      ]
    },
    {
      "cell_type": "markdown",
      "metadata": {
        "id": "7AnH6VY-W09n"
      },
      "source": [
        "# Part 2: Format data and split it into numpy arrays"
      ]
    },
    {
      "cell_type": "code",
      "metadata": {
        "id": "OaRBLIHNdrSN"
      },
      "source": [
        "# AUX function to put categorical data into one-hot encoding format\n",
        "from sklearn.preprocessing import OneHotEncoder\n",
        "def winddir_to_categorical(winddir):\n",
        "  enc = OneHotEncoder(sparse=False)\n",
        "  WD = enc.fit_transform(winddir)\n",
        "  print(\"== categories:\", enc.categories_, \"==\")\n",
        "  return WD"
      ],
      "execution_count": null,
      "outputs": []
    },
    {
      "cell_type": "code",
      "metadata": {
        "id": "dFhZ5cEGSk2e",
        "colab": {
          "base_uri": "https://localhost:8080/",
          "height": 566
        },
        "outputId": "712f8b68-03ac-4caa-8cac-961fb0fe98b4"
      },
      "source": [
        "# Extract input features and convert them to a numpy array\n",
        "\n",
        "#Selección de características\n",
        "X = df[['TEMP', 'PRES', 'WSPM' ]].to_numpy()\n",
        " #df[['year', 'month', 'day', 'hour', 'TEMP', 'PRES', 'DEWP', 'RAIN', 'WSPM' ]].to_numpy()\n",
        "\n",
        "WD = winddir_to_categorical(df[['wd']])\n",
        "X = np.concatenate((X, WD), axis=1)\n",
        "\n",
        "\n",
        "print(f\"Input values X with shape {X.shape}. With values\")\n",
        "\n",
        "\n",
        "print(f\" min = {X.min(axis=0)}\")\n",
        "print(f\" mean = {X.mean(axis=0)}\")\n",
        "print(f\" stdd = {X.std(axis=0)}\")\n",
        "print(f\" max = {X.max(axis=0)}\")\n",
        "\n",
        "plt.boxplot(X)\n",
        "plt.show()"
      ],
      "execution_count": null,
      "outputs": [
        {
          "output_type": "stream",
          "text": [
            "== categories: [array(['E', 'ENE', 'ESE', 'N', 'NE', 'NNE', 'NNW', 'NW', 'S', 'SE', 'SSE',\n",
            "       'SSW', 'SW', 'W', 'WNW', 'WSW'], dtype=object)] ==\n",
            "Input values X with shape (31815, 19). With values\n",
            " min = [-16.8 985.9   0.    0.    0.    0.    0.    0.    0.    0.    0.    0.\n",
            "   0.    0.    0.    0.    0.    0.    0. ]\n",
            " mean = [1.37756108e+01 1.01180038e+03 1.72047148e+00 7.51532296e-02\n",
            " 1.12619833e-01 5.05421971e-02 5.86830112e-02 1.43988685e-01\n",
            " 6.99984284e-02 4.45073079e-02 5.37482320e-02 3.81581015e-02\n",
            " 3.91010530e-02 2.96715386e-02 6.03488920e-02 9.57724344e-02\n",
            " 3.36005029e-02 3.14002829e-02 6.27062706e-02]\n",
            " stdd = [11.36885668 10.33870697  1.20422141  0.26363843  0.31612752  0.21906091\n",
            "  0.23503046  0.35107826  0.25514437  0.20621932  0.2255202   0.19157782\n",
            "  0.1938354   0.16967952  0.23813211  0.29427891  0.18019853  0.17439698\n",
            "  0.2424339 ]\n",
            " max = [4.050e+01 1.042e+03 1.120e+01 1.000e+00 1.000e+00 1.000e+00 1.000e+00\n",
            " 1.000e+00 1.000e+00 1.000e+00 1.000e+00 1.000e+00 1.000e+00 1.000e+00\n",
            " 1.000e+00 1.000e+00 1.000e+00 1.000e+00 1.000e+00]\n"
          ],
          "name": "stdout"
        },
        {
          "output_type": "display_data",
          "data": {
            "image/png": "[encoded data removed]",
            "text/plain": [
              "<Figure size 432x288 with 1 Axes>"
            ]
          },
          "metadata": {
            "tags": [],
            "needs_background": "light"
          }
        }
      ]
    },
    {
      "cell_type": "code",
      "metadata": {
        "id": "MwImDcVGg5O7",
        "colab": {
          "base_uri": "https://localhost:8080/",
          "height": 601
        },
        "outputId": "1bbb92a0-266c-46c0-9445-e24907804e03"
      },
      "source": [
        "# Normalize (zero-center) and standardize (scale) input data\n",
        "from sklearn.preprocessing import StandardScaler\n",
        "scalerX = StandardScaler()\n",
        "X = scalerX.fit_transform(X)\n",
        "print(scalerX.mean_)\n",
        "\n",
        "print(f\" min = {X.min(axis=0)}\")\n",
        "print(f\" mean = {X.mean(axis=0)}\")\n",
        "print(f\" stdd = {X.std(axis=0)}\")\n",
        "print(f\" max = {X.max(axis=0)}\")\n",
        "\n",
        "plt.boxplot(X)\n",
        "plt.show()"
      ],
      "execution_count": null,
      "outputs": [
        {
          "output_type": "stream",
          "text": [
            "[1.37756108e+01 1.01180038e+03 1.72047148e+00 7.51532296e-02\n",
            " 1.12619833e-01 5.05421971e-02 5.86830112e-02 1.43988685e-01\n",
            " 6.99984284e-02 4.45073079e-02 5.37482320e-02 3.81581015e-02\n",
            " 3.91010530e-02 2.96715386e-02 6.03488920e-02 9.57724344e-02\n",
            " 3.36005029e-02 3.14002829e-02 6.27062706e-02]\n",
            " min = [-2.68941826 -2.50518608 -1.42870029 -0.28506174 -0.35624812 -0.23072212\n",
            " -0.24968258 -0.41013273 -0.27434832 -0.21582511 -0.23833001 -0.19917808\n",
            " -0.20172298 -0.17486812 -0.2534261  -0.32544784 -0.1864638  -0.18005062\n",
            " -0.25865307]\n",
            " mean = [-1.02426039e-14 -1.09446446e-12  1.58522417e-14  1.72582712e-14\n",
            " -4.05981498e-15  1.36230193e-14  1.06470074e-14 -1.71220957e-14\n",
            " -1.80721207e-14  1.59185533e-15 -1.52863037e-14 -9.66857167e-16\n",
            " -1.04650289e-14 -9.16496697e-17  7.44947610e-15 -1.07559691e-14\n",
            " -7.01441105e-15 -7.47533943e-15 -1.16311731e-14]\n",
            " stdd = [1. 1. 1. 1. 1. 1. 1. 1. 1. 1. 1. 1. 1. 1. 1. 1. 1. 1. 1.]\n",
            " max = [2.35066639 2.92102439 7.87191495 3.50801198 2.80703236 4.33421824\n",
            " 4.00508514 2.43823505 3.64500138 4.63338109 4.19586262 5.02063288\n",
            " 4.9572935  5.71859515 3.94592353 3.07268902 5.36297113 5.55399377\n",
            " 3.86618267]\n"
          ],
          "name": "stdout"
        },
        {
          "output_type": "display_data",
          "data": {
            "image/png": "[encoded data removed]",
            "text/plain": [
              "<Figure size 432x288 with 1 Axes>"
            ]
          },
          "metadata": {
            "tags": [],
            "needs_background": "light"
          }
        }
      ]
    },
    {
      "cell_type": "code",
      "metadata": {
        "id": "dA2VIaEEHGwA",
        "colab": {
          "base_uri": "https://localhost:8080/",
          "height": 354
        },
        "outputId": "28fc3302-992c-4add-8fa6-e03ed1866eef"
      },
      "source": [
        "# Extract output features and convert them to a numpy array\n",
        "Y = df[['O3', 'CO']].to_numpy()\n",
        "\n",
        "print(f\"Target values Y with shape {Y.shape}. With values\")\n",
        "print(f\" min = {Y.min(axis=0)}\")\n",
        "print(f\" mean = {Y.mean(axis=0)}\")\n",
        "print(f\" stdd = {Y.std(axis=0)}\")\n",
        "print(f\" max = {Y.max(axis=0)}\")\n",
        "\n",
        "plt.boxplot(Y)\n",
        "plt.show()"
      ],
      "execution_count": null,
      "outputs": [
        {
          "output_type": "stream",
          "text": [
            "Target values Y with shape (31815, 2). With values\n",
            " min = [  0.2142 100.    ]\n",
            " mean = [  56.2409378 1256.5747289]\n",
            " stdd = [  57.83340531 1223.28198259]\n",
            " max = [  423. 10000.]\n"
          ],
          "name": "stdout"
        },
        {
          "output_type": "display_data",
          "data": {
            "image/png": "[encoded data removed]",
            "text/plain": [
              "<Figure size 432x288 with 1 Axes>"
            ]
          },
          "metadata": {
            "tags": [],
            "needs_background": "light"
          }
        }
      ]
    },
    {
      "cell_type": "code",
      "metadata": {
        "id": "d4nkvcV3MmC9",
        "colab": {
          "base_uri": "https://localhost:8080/",
          "height": 354
        },
        "outputId": "ed313521-b246-4c1e-e05f-abed4304d43b"
      },
      "source": [
        "# Normalize (zero-center) and standardize (scale) output data\n",
        "scalerY = StandardScaler()\n",
        "Y = scalerY.fit_transform(Y)\n",
        "print(scalerY.mean_)\n",
        "\n",
        "print(f\" min = {Y.min(axis=0)}\")\n",
        "print(f\" mean = {Y.mean(axis=0)}\")\n",
        "print(f\" stdd = {Y.std(axis=0)}\")\n",
        "print(f\" max = {Y.max(axis=0)}\")\n",
        "\n",
        "plt.boxplot(Y)\n",
        "plt.show()"
      ],
      "execution_count": null,
      "outputs": [
        {
          "output_type": "stream",
          "text": [
            "[  56.2409378 1256.5747289]\n",
            " min = [-0.96876083 -0.94546862]\n",
            " mean = [-1.57228378e-16 -3.21603501e-17]\n",
            " stdd = [1. 1.]\n",
            " max = [6.34164736 7.14751414]\n"
          ],
          "name": "stdout"
        },
        {
          "output_type": "display_data",
          "data": {
            "image/png": "[encoded data removed]",
            "text/plain": [
              "<Figure size 432x288 with 1 Axes>"
            ]
          },
          "metadata": {
            "tags": [],
            "needs_background": "light"
          }
        }
      ]
    },
    {
      "cell_type": "code",
      "metadata": {
        "id": "zAKGr2d4W_OU",
        "colab": {
          "base_uri": "https://localhost:8080/"
        },
        "outputId": "6f9ca560-fc79-4f6a-ca79-a651add21cc1"
      },
      "source": [
        "# Split data into train+val and test sets\n",
        "from sklearn.model_selection import train_test_split\n",
        "x_train, x_test, y_train, y_test = train_test_split(X, Y, test_size=0.05)\n",
        "\n",
        "print(x_train.shape)\n",
        "print(y_train.shape)\n",
        "print(x_test.shape)\n",
        "print(y_test.shape)"
      ],
      "execution_count": null,
      "outputs": [
        {
          "output_type": "stream",
          "text": [
            "(30224, 19)\n",
            "(30224, 2)\n",
            "(1591, 19)\n",
            "(1591, 2)\n"
          ],
          "name": "stdout"
        }
      ]
    },
    {
      "cell_type": "code",
      "metadata": {
        "id": "7dQRDsU4znyI",
        "colab": {
          "base_uri": "https://localhost:8080/",
          "height": 295
        },
        "outputId": "3a1e1aac-abc7-4ee2-a881-b2ecf67f862c"
      },
      "source": [
        "# Plot y_test\n",
        "# Esta gráfica es para ver sólo si los sets de entrenamiento y test cubren las mismas\n",
        "# áreas (¿tienen la misma distribución?). No se espera que los puntos coincidan ya que\n",
        "# son dos sets distintos.\n",
        "plt.scatter(y_train[:, 0], y_train[:, 1], c='r', s=2, label='y_train')\n",
        "plt.scatter(y_test[:, 0], y_test[:, 1], c='b', s=2, label='y_test')\n",
        "\n",
        "plt.legend()\n",
        "plt.grid(True)\n",
        "plt.xlabel('PM2.5')\n",
        "plt.ylabel('NO2')\n",
        "plt.title('Outputs')\n",
        "plt.show()"
      ],
      "execution_count": null,
      "outputs": [
        {
          "output_type": "display_data",
          "data": {
            "image/png": "[encoded data removed]",
            "text/plain": [
              "<Figure size 432x288 with 1 Axes>"
            ]
          },
          "metadata": {
            "tags": [],
            "needs_background": "light"
          }
        }
      ]
    },
    {
      "cell_type": "markdown",
      "metadata": {
        "id": "dreChfyNYqsB"
      },
      "source": [
        "# Part 3: Create DNN model and train it"
      ]
    },
    {
      "cell_type": "code",
      "metadata": {
        "id": "JO90QIV_HZyX"
      },
      "source": [
        "# tensorflow imports\n",
        "import tensorflow as tf\n",
        "from tensorflow.keras.models import Sequential\n",
        "from tensorflow.keras.layers import Input, Dense"
      ],
      "execution_count": null,
      "outputs": []
    },
    {
      "cell_type": "code",
      "metadata": {
        "id": "qTWQrImw-P_y",
        "colab": {
          "base_uri": "https://localhost:8080/",
          "height": 424
        },
        "outputId": "945c33bf-0825-40d8-ef08-e23dcf9ee512"
      },
      "source": [
        "# 2 capas ocultas\n",
        "# Valores entre 32 y 2048\n",
        "neuro = [2048,1024,512,256,128,64,32]\n",
        "lote = [32, 64]\n",
        "res3 = []\n",
        "from random import seed\n",
        "seed(1)\n",
        "for f in range(len(neuro)):\n",
        "  for lo in lote:\n",
        "    if random() > 0.3:\n",
        "      DNN = Sequential()\n",
        "      DNN.add(Input(shape = X.shape[1:], name='INPUT'))\n",
        "\n",
        "      DNN.add(Dense(units = neuro[f], activation='relu'))\n",
        "      DNN.add(Dense(units = neuro[f], activation='relu'))\n",
        "      \n",
        "      DNN.add(Dense(units = Y.shape[1], activation='linear', name='OUTPUT'))\n",
        "\n",
        "      #DNN.summary()\n",
        "      DNN.compile(optimizer='adam', loss='mse')\n",
        "      # Train model\n",
        "      history = DNN.fit(x=x_train, y=y_train, batch_size= lo, epochs=30, verbose= 0, validation_split=0.1, shuffle=True)\n",
        "      entrenamiento = DNN.evaluate(x = x_train, y = y_train, verbose=0)\n",
        "      prueba = DNN.evaluate(x = x_test, y = y_test, verbose=0)\n",
        "      res3.append([neuro[f], neuro[f],lo, entrenamiento, prueba])"
      ],
      "execution_count": null,
      "outputs": [
        {
          "output_type": "error",
          "ename": "KeyboardInterrupt",
          "evalue": "ignored",
          "traceback": [
            "\u001b[0;31m---------------------------------------------------------------------------\u001b[0m",
            "\u001b[0;31mKeyboardInterrupt\u001b[0m                         Traceback (most recent call last)",
            "\u001b[0;32m<ipython-input-66-3778e89d4f19>\u001b[0m in \u001b[0;36m<module>\u001b[0;34m()\u001b[0m\n\u001b[1;32m     21\u001b[0m       \u001b[0mDNN\u001b[0m\u001b[0;34m.\u001b[0m\u001b[0mcompile\u001b[0m\u001b[0;34m(\u001b[0m\u001b[0moptimizer\u001b[0m\u001b[0;34m=\u001b[0m\u001b[0;34m'adam'\u001b[0m\u001b[0;34m,\u001b[0m \u001b[0mloss\u001b[0m\u001b[0;34m=\u001b[0m\u001b[0;34m'mse'\u001b[0m\u001b[0;34m)\u001b[0m\u001b[0;34m\u001b[0m\u001b[0;34m\u001b[0m\u001b[0m\n\u001b[1;32m     22\u001b[0m       \u001b[0;31m# Train model\u001b[0m\u001b[0;34m\u001b[0m\u001b[0;34m\u001b[0m\u001b[0;34m\u001b[0m\u001b[0m\n\u001b[0;32m---> 23\u001b[0;31m       \u001b[0mhistory\u001b[0m \u001b[0;34m=\u001b[0m \u001b[0mDNN\u001b[0m\u001b[0;34m.\u001b[0m\u001b[0mfit\u001b[0m\u001b[0;34m(\u001b[0m\u001b[0mx\u001b[0m\u001b[0;34m=\u001b[0m\u001b[0mx_train\u001b[0m\u001b[0;34m,\u001b[0m \u001b[0my\u001b[0m\u001b[0;34m=\u001b[0m\u001b[0my_train\u001b[0m\u001b[0;34m,\u001b[0m \u001b[0mbatch_size\u001b[0m\u001b[0;34m=\u001b[0m \u001b[0mlo\u001b[0m\u001b[0;34m,\u001b[0m \u001b[0mepochs\u001b[0m\u001b[0;34m=\u001b[0m\u001b[0;36m30\u001b[0m\u001b[0;34m,\u001b[0m \u001b[0mverbose\u001b[0m\u001b[0;34m=\u001b[0m \u001b[0;36m0\u001b[0m\u001b[0;34m,\u001b[0m \u001b[0mvalidation_split\u001b[0m\u001b[0;34m=\u001b[0m\u001b[0;36m0.1\u001b[0m\u001b[0;34m,\u001b[0m \u001b[0mshuffle\u001b[0m\u001b[0;34m=\u001b[0m\u001b[0;32mTrue\u001b[0m\u001b[0;34m)\u001b[0m\u001b[0;34m\u001b[0m\u001b[0;34m\u001b[0m\u001b[0m\n\u001b[0m\u001b[1;32m     24\u001b[0m       \u001b[0mentrenamiento\u001b[0m \u001b[0;34m=\u001b[0m \u001b[0mDNN\u001b[0m\u001b[0;34m.\u001b[0m\u001b[0mevaluate\u001b[0m\u001b[0;34m(\u001b[0m\u001b[0mx\u001b[0m \u001b[0;34m=\u001b[0m \u001b[0mx_train\u001b[0m\u001b[0;34m,\u001b[0m \u001b[0my\u001b[0m \u001b[0;34m=\u001b[0m \u001b[0my_train\u001b[0m\u001b[0;34m,\u001b[0m \u001b[0mverbose\u001b[0m\u001b[0;34m=\u001b[0m\u001b[0;36m0\u001b[0m\u001b[0;34m)\u001b[0m\u001b[0;34m\u001b[0m\u001b[0;34m\u001b[0m\u001b[0m\n\u001b[1;32m     25\u001b[0m       \u001b[0mprueba\u001b[0m \u001b[0;34m=\u001b[0m \u001b[0mDNN\u001b[0m\u001b[0;34m.\u001b[0m\u001b[0mevaluate\u001b[0m\u001b[0;34m(\u001b[0m\u001b[0mx\u001b[0m \u001b[0;34m=\u001b[0m \u001b[0mx_test\u001b[0m\u001b[0;34m,\u001b[0m \u001b[0my\u001b[0m \u001b[0;34m=\u001b[0m \u001b[0my_test\u001b[0m\u001b[0;34m,\u001b[0m \u001b[0mverbose\u001b[0m\u001b[0;34m=\u001b[0m\u001b[0;36m0\u001b[0m\u001b[0;34m)\u001b[0m\u001b[0;34m\u001b[0m\u001b[0;34m\u001b[0m\u001b[0m\n",
            "\u001b[0;32m/usr/local/lib/python3.6/dist-packages/tensorflow/python/keras/engine/training.py\u001b[0m in \u001b[0;36mfit\u001b[0;34m(self, x, y, batch_size, epochs, verbose, callbacks, validation_split, validation_data, shuffle, class_weight, sample_weight, initial_epoch, steps_per_epoch, validation_steps, validation_batch_size, validation_freq, max_queue_size, workers, use_multiprocessing)\u001b[0m\n\u001b[1;32m   1098\u001b[0m                 _r=1):\n\u001b[1;32m   1099\u001b[0m               \u001b[0mcallbacks\u001b[0m\u001b[0;34m.\u001b[0m\u001b[0mon_train_batch_begin\u001b[0m\u001b[0;34m(\u001b[0m\u001b[0mstep\u001b[0m\u001b[0;34m)\u001b[0m\u001b[0;34m\u001b[0m\u001b[0;34m\u001b[0m\u001b[0m\n\u001b[0;32m-> 1100\u001b[0;31m               \u001b[0mtmp_logs\u001b[0m \u001b[0;34m=\u001b[0m \u001b[0mself\u001b[0m\u001b[0;34m.\u001b[0m\u001b[0mtrain_function\u001b[0m\u001b[0;34m(\u001b[0m\u001b[0miterator\u001b[0m\u001b[0;34m)\u001b[0m\u001b[0;34m\u001b[0m\u001b[0;34m\u001b[0m\u001b[0m\n\u001b[0m\u001b[1;32m   1101\u001b[0m               \u001b[0;32mif\u001b[0m \u001b[0mdata_handler\u001b[0m\u001b[0;34m.\u001b[0m\u001b[0mshould_sync\u001b[0m\u001b[0;34m:\u001b[0m\u001b[0;34m\u001b[0m\u001b[0;34m\u001b[0m\u001b[0m\n\u001b[1;32m   1102\u001b[0m                 \u001b[0mcontext\u001b[0m\u001b[0;34m.\u001b[0m\u001b[0masync_wait\u001b[0m\u001b[0;34m(\u001b[0m\u001b[0;34m)\u001b[0m\u001b[0;34m\u001b[0m\u001b[0;34m\u001b[0m\u001b[0m\n",
            "\u001b[0;32m/usr/local/lib/python3.6/dist-packages/tensorflow/python/eager/def_function.py\u001b[0m in \u001b[0;36m__call__\u001b[0;34m(self, *args, **kwds)\u001b[0m\n\u001b[1;32m    826\u001b[0m     \u001b[0mtracing_count\u001b[0m \u001b[0;34m=\u001b[0m \u001b[0mself\u001b[0m\u001b[0;34m.\u001b[0m\u001b[0mexperimental_get_tracing_count\u001b[0m\u001b[0;34m(\u001b[0m\u001b[0;34m)\u001b[0m\u001b[0;34m\u001b[0m\u001b[0;34m\u001b[0m\u001b[0m\n\u001b[1;32m    827\u001b[0m     \u001b[0;32mwith\u001b[0m \u001b[0mtrace\u001b[0m\u001b[0;34m.\u001b[0m\u001b[0mTrace\u001b[0m\u001b[0;34m(\u001b[0m\u001b[0mself\u001b[0m\u001b[0;34m.\u001b[0m\u001b[0m_name\u001b[0m\u001b[0;34m)\u001b[0m \u001b[0;32mas\u001b[0m \u001b[0mtm\u001b[0m\u001b[0;34m:\u001b[0m\u001b[0;34m\u001b[0m\u001b[0;34m\u001b[0m\u001b[0m\n\u001b[0;32m--> 828\u001b[0;31m       \u001b[0mresult\u001b[0m \u001b[0;34m=\u001b[0m \u001b[0mself\u001b[0m\u001b[0;34m.\u001b[0m\u001b[0m_call\u001b[0m\u001b[0;34m(\u001b[0m\u001b[0;34m*\u001b[0m\u001b[0margs\u001b[0m\u001b[0;34m,\u001b[0m \u001b[0;34m**\u001b[0m\u001b[0mkwds\u001b[0m\u001b[0;34m)\u001b[0m\u001b[0;34m\u001b[0m\u001b[0;34m\u001b[0m\u001b[0m\n\u001b[0m\u001b[1;32m    829\u001b[0m       \u001b[0mcompiler\u001b[0m \u001b[0;34m=\u001b[0m \u001b[0;34m\"xla\"\u001b[0m \u001b[0;32mif\u001b[0m \u001b[0mself\u001b[0m\u001b[0;34m.\u001b[0m\u001b[0m_experimental_compile\u001b[0m \u001b[0;32melse\u001b[0m \u001b[0;34m\"nonXla\"\u001b[0m\u001b[0;34m\u001b[0m\u001b[0;34m\u001b[0m\u001b[0m\n\u001b[1;32m    830\u001b[0m       \u001b[0mnew_tracing_count\u001b[0m \u001b[0;34m=\u001b[0m \u001b[0mself\u001b[0m\u001b[0;34m.\u001b[0m\u001b[0mexperimental_get_tracing_count\u001b[0m\u001b[0;34m(\u001b[0m\u001b[0;34m)\u001b[0m\u001b[0;34m\u001b[0m\u001b[0;34m\u001b[0m\u001b[0m\n",
            "\u001b[0;32m/usr/local/lib/python3.6/dist-packages/tensorflow/python/eager/def_function.py\u001b[0m in \u001b[0;36m_call\u001b[0;34m(self, *args, **kwds)\u001b[0m\n\u001b[1;32m    853\u001b[0m       \u001b[0;31m# In this case we have created variables on the first call, so we run the\u001b[0m\u001b[0;34m\u001b[0m\u001b[0;34m\u001b[0m\u001b[0;34m\u001b[0m\u001b[0m\n\u001b[1;32m    854\u001b[0m       \u001b[0;31m# defunned version which is guaranteed to never create variables.\u001b[0m\u001b[0;34m\u001b[0m\u001b[0;34m\u001b[0m\u001b[0;34m\u001b[0m\u001b[0m\n\u001b[0;32m--> 855\u001b[0;31m       \u001b[0;32mreturn\u001b[0m \u001b[0mself\u001b[0m\u001b[0;34m.\u001b[0m\u001b[0m_stateless_fn\u001b[0m\u001b[0;34m(\u001b[0m\u001b[0;34m*\u001b[0m\u001b[0margs\u001b[0m\u001b[0;34m,\u001b[0m \u001b[0;34m**\u001b[0m\u001b[0mkwds\u001b[0m\u001b[0;34m)\u001b[0m  \u001b[0;31m# pylint: disable=not-callable\u001b[0m\u001b[0;34m\u001b[0m\u001b[0;34m\u001b[0m\u001b[0m\n\u001b[0m\u001b[1;32m    856\u001b[0m     \u001b[0;32melif\u001b[0m \u001b[0mself\u001b[0m\u001b[0;34m.\u001b[0m\u001b[0m_stateful_fn\u001b[0m \u001b[0;32mis\u001b[0m \u001b[0;32mnot\u001b[0m \u001b[0;32mNone\u001b[0m\u001b[0;34m:\u001b[0m\u001b[0;34m\u001b[0m\u001b[0;34m\u001b[0m\u001b[0m\n\u001b[1;32m    857\u001b[0m       \u001b[0;31m# Release the lock early so that multiple threads can perform the call\u001b[0m\u001b[0;34m\u001b[0m\u001b[0;34m\u001b[0m\u001b[0;34m\u001b[0m\u001b[0m\n",
            "\u001b[0;32m/usr/local/lib/python3.6/dist-packages/tensorflow/python/eager/function.py\u001b[0m in \u001b[0;36m__call__\u001b[0;34m(self, *args, **kwargs)\u001b[0m\n\u001b[1;32m   2941\u001b[0m        filtered_flat_args) = self._maybe_define_function(args, kwargs)\n\u001b[1;32m   2942\u001b[0m     return graph_function._call_flat(\n\u001b[0;32m-> 2943\u001b[0;31m         filtered_flat_args, captured_inputs=graph_function.captured_inputs)  # pylint: disable=protected-access\n\u001b[0m\u001b[1;32m   2944\u001b[0m \u001b[0;34m\u001b[0m\u001b[0m\n\u001b[1;32m   2945\u001b[0m   \u001b[0;34m@\u001b[0m\u001b[0mproperty\u001b[0m\u001b[0;34m\u001b[0m\u001b[0;34m\u001b[0m\u001b[0m\n",
            "\u001b[0;32m/usr/local/lib/python3.6/dist-packages/tensorflow/python/eager/function.py\u001b[0m in \u001b[0;36m_call_flat\u001b[0;34m(self, args, captured_inputs, cancellation_manager)\u001b[0m\n\u001b[1;32m   1917\u001b[0m       \u001b[0;31m# No tape is watching; skip to running the function.\u001b[0m\u001b[0;34m\u001b[0m\u001b[0;34m\u001b[0m\u001b[0;34m\u001b[0m\u001b[0m\n\u001b[1;32m   1918\u001b[0m       return self._build_call_outputs(self._inference_function.call(\n\u001b[0;32m-> 1919\u001b[0;31m           ctx, args, cancellation_manager=cancellation_manager))\n\u001b[0m\u001b[1;32m   1920\u001b[0m     forward_backward = self._select_forward_and_backward_functions(\n\u001b[1;32m   1921\u001b[0m         \u001b[0margs\u001b[0m\u001b[0;34m,\u001b[0m\u001b[0;34m\u001b[0m\u001b[0;34m\u001b[0m\u001b[0m\n",
            "\u001b[0;32m/usr/local/lib/python3.6/dist-packages/tensorflow/python/eager/function.py\u001b[0m in \u001b[0;36mcall\u001b[0;34m(self, ctx, args, cancellation_manager)\u001b[0m\n\u001b[1;32m    558\u001b[0m               \u001b[0minputs\u001b[0m\u001b[0;34m=\u001b[0m\u001b[0margs\u001b[0m\u001b[0;34m,\u001b[0m\u001b[0;34m\u001b[0m\u001b[0;34m\u001b[0m\u001b[0m\n\u001b[1;32m    559\u001b[0m               \u001b[0mattrs\u001b[0m\u001b[0;34m=\u001b[0m\u001b[0mattrs\u001b[0m\u001b[0;34m,\u001b[0m\u001b[0;34m\u001b[0m\u001b[0;34m\u001b[0m\u001b[0m\n\u001b[0;32m--> 560\u001b[0;31m               ctx=ctx)\n\u001b[0m\u001b[1;32m    561\u001b[0m         \u001b[0;32melse\u001b[0m\u001b[0;34m:\u001b[0m\u001b[0;34m\u001b[0m\u001b[0;34m\u001b[0m\u001b[0m\n\u001b[1;32m    562\u001b[0m           outputs = execute.execute_with_cancellation(\n",
            "\u001b[0;32m/usr/local/lib/python3.6/dist-packages/tensorflow/python/eager/execute.py\u001b[0m in \u001b[0;36mquick_execute\u001b[0;34m(op_name, num_outputs, inputs, attrs, ctx, name)\u001b[0m\n\u001b[1;32m     58\u001b[0m     \u001b[0mctx\u001b[0m\u001b[0;34m.\u001b[0m\u001b[0mensure_initialized\u001b[0m\u001b[0;34m(\u001b[0m\u001b[0;34m)\u001b[0m\u001b[0;34m\u001b[0m\u001b[0;34m\u001b[0m\u001b[0m\n\u001b[1;32m     59\u001b[0m     tensors = pywrap_tfe.TFE_Py_Execute(ctx._handle, device_name, op_name,\n\u001b[0;32m---> 60\u001b[0;31m                                         inputs, attrs, num_outputs)\n\u001b[0m\u001b[1;32m     61\u001b[0m   \u001b[0;32mexcept\u001b[0m \u001b[0mcore\u001b[0m\u001b[0;34m.\u001b[0m\u001b[0m_NotOkStatusException\u001b[0m \u001b[0;32mas\u001b[0m \u001b[0me\u001b[0m\u001b[0;34m:\u001b[0m\u001b[0;34m\u001b[0m\u001b[0;34m\u001b[0m\u001b[0m\n\u001b[1;32m     62\u001b[0m     \u001b[0;32mif\u001b[0m \u001b[0mname\u001b[0m \u001b[0;32mis\u001b[0m \u001b[0;32mnot\u001b[0m \u001b[0;32mNone\u001b[0m\u001b[0;34m:\u001b[0m\u001b[0;34m\u001b[0m\u001b[0;34m\u001b[0m\u001b[0m\n",
            "\u001b[0;31mKeyboardInterrupt\u001b[0m: "
          ]
        }
      ]
    },
    {
      "cell_type": "code",
      "metadata": {
        "id": "Bm4CsQh0-eu_"
      },
      "source": [
        "df2 = pd.DataFrame(res3, columns = ['Neu 1', 'Neu 2', 'Lote', 'Entrenamiento', 'Prueba']) \n",
        "df2 = df2.sort_values(by=['Prueba'])\n",
        "print(df2.head())"
      ],
      "execution_count": null,
      "outputs": []
    },
    {
      "cell_type": "code",
      "metadata": {
        "id": "A7YuPHD9_w4F"
      },
      "source": [
        "# 3 capas ocultas\n",
        "# Valores entre 32 y 2048\n",
        "neuro = [2048,1024,512,256,128,64,32]\n",
        "lote = [32, 64]\n",
        "res3 = []\n",
        "for k in range(len(neuro) - 1):\n",
        "  for f in range(k + 1, len(neuro)):\n",
        "    for lo in lote:\n",
        "      if random() > 0.5:\n",
        "        DNN = Sequential()\n",
        "        DNN.add(Input(shape = X.shape[1:], name='INPUT'))\n",
        "\n",
        "        DNN.add(Dense(units = neuro[f], activation='relu'))\n",
        "        DNN.add(Dense(units = neuro[k], activation='relu'))\n",
        "        DNN.add(Dense(units = neuro[f], activation='relu'))\n",
        "\n",
        "        DNN.add(Dense(units = Y.shape[1], activation='linear', name='OUTPUT'))\n",
        "\n",
        "        #DNN.summary()\n",
        "        DNN.compile(optimizer='adam', loss='mse')\n",
        "        # Train model\n",
        "        history = DNN.fit(x=x_train, y=y_train, batch_size= lo, epochs=30, verbose= False, validation_split=0.1, shuffle=True)\n",
        "        entrenamiento = DNN.evaluate(x = x_train, y = y_train, verbose=0)\n",
        "        prueba = DNN.evaluate(x = x_test, y = y_test, verbose=0)\n",
        "        res3.append([neuro[f], neuro[k], neuro[f],lo, entrenamiento, prueba])"
      ],
      "execution_count": null,
      "outputs": []
    },
    {
      "cell_type": "code",
      "metadata": {
        "id": "2dMYJ-Bj_x56",
        "colab": {
          "base_uri": "https://localhost:8080/"
        },
        "outputId": "81f1d395-2bad-4534-8758-604e7de51f81"
      },
      "source": [
        "df2 = pd.DataFrame(res3, columns = ['Neu 1', 'Neu 2', 'Neu 3', 'Lote', 'Entrenamiento', 'Prueba']) \n",
        "df2 = df2.sort_values(by=['Prueba'])\n",
        "print(df2.head())"
      ],
      "execution_count": null,
      "outputs": [
        {
          "output_type": "stream",
          "text": [
            "    Neu 1  Neu 2  Neu 3  Lote  Entrenamiento    Prueba\n",
            "3      64   2048     64    32       0.453363  0.470238\n",
            "10     32    256     32    32       0.461050  0.470290\n",
            "13     32    128     32    32       0.464278  0.472880\n",
            "8      64   1024     64    64       0.455500  0.473451\n",
            "9      32   1024     32    32       0.455621  0.475232\n"
          ],
          "name": "stdout"
        }
      ]
    },
    {
      "cell_type": "code",
      "metadata": {
        "id": "w1wOdJSK-QGh"
      },
      "source": [
        "# 4 capas ocultas\n",
        "# Valores entre 32 y 2048\n",
        "neuro = [2048,1024,512,256,128,64,32]\n",
        "lote = [32, 64]\n",
        "res3 = []\n",
        "for k in range(len(neuro) - 1):\n",
        "  for f in range(k + 1, len(neuro)):\n",
        "    for lo in lote:\n",
        "      if random() > 0.5:\n",
        "        DNN = Sequential()\n",
        "        DNN.add(Input(shape = X.shape[1:], name='INPUT'))\n",
        "\n",
        "        DNN.add(Dense(units = neuro[f], activation='relu'))\n",
        "        DNN.add(Dense(units = neuro[k], activation='relu'))\n",
        "        DNN.add(Dense(units = neuro[k], activation='relu'))\n",
        "        DNN.add(Dense(units = neuro[f], activation='relu'))\n",
        "\n",
        "        DNN.add(Dense(units = Y.shape[1], activation='linear', name='OUTPUT'))\n",
        "\n",
        "        #DNN.summary()\n",
        "        DNN.compile(optimizer='adam', loss='mse')\n",
        "        # Train model\n",
        "        history = DNN.fit(x=x_train, y=y_train, batch_size= lo, epochs=30, verbose= False, validation_split=0.1, shuffle=True)\n",
        "        entrenamiento = DNN.evaluate(x = x_train, y = y_train, verbose=0)\n",
        "        prueba = DNN.evaluate(x = x_test, y = y_test, verbose=0)\n",
        "        res3.append([neuro[f], neuro[k], neuro[k],neuro[f],lo, entrenamiento, prueba])"
      ],
      "execution_count": null,
      "outputs": []
    },
    {
      "cell_type": "code",
      "metadata": {
        "id": "keicg4Ss-f1y",
        "colab": {
          "base_uri": "https://localhost:8080/"
        },
        "outputId": "3a862d00-719b-4c4a-c048-ba1ac90d8f68"
      },
      "source": [
        "df2 = pd.DataFrame(res3, columns = ['Neu 1', 'Neu 2', 'Neu 3', 'Neu 4', 'Lote', 'Entrenamiento', 'Prueba']) \n",
        "df2 = df2.sort_values(by=['Prueba'])\n",
        "print(df2.head())"
      ],
      "execution_count": null,
      "outputs": [
        {
          "output_type": "stream",
          "text": [
            "    Neu 1  Neu 2  Neu 3  Neu 4  Lote  Entrenamiento    Prueba\n",
            "28     64   1024   1024     64    32       0.446977  0.467635\n",
            "48     64    256    256     64    16       0.449540  0.468661\n",
            "52     32    256    256     32    32       0.454943  0.468783\n",
            "22    256   1024   1024    256    32       0.448150  0.469304\n",
            "58     32    128    128     32    32       0.454275  0.469566\n"
          ],
          "name": "stdout"
        }
      ]
    },
    {
      "cell_type": "code",
      "metadata": {
        "id": "ENX7lCg3Ido4"
      },
      "source": [
        "# 5 capas ocultas\n",
        "# Valores entre 32 y 2048\n",
        "neuro = [2048,1024,512,256,128,64,32]\n",
        "lote = [32, 64]\n",
        "res3 = []\n",
        "for ñ in range(len(neuro) - 2):\n",
        "  for k in range(ñ + 1, len(neuro) - 1):\n",
        "    for f in range(k + 1, len(neuro)):\n",
        "      for lo in lote:\n",
        "        if random() > 0.7:\n",
        "          DNN = Sequential()\n",
        "          DNN.add(Input(shape = X.shape[1:], name='INPUT'))\n",
        "\n",
        "          DNN.add(Dense(units = neuro[f], activation='relu'))\n",
        "          DNN.add(Dense(units = neuro[k], activation='relu'))\n",
        "          DNN.add(Dense(units = neuro[ñ], activation='relu'))\n",
        "          DNN.add(Dense(units = neuro[k], activation='relu'))\n",
        "          DNN.add(Dense(units = neuro[f], activation='relu'))\n",
        "\n",
        "          DNN.add(Dense(units = Y.shape[1], activation='linear', name='OUTPUT'))\n",
        "\n",
        "          #DNN.summary()\n",
        "          DNN.compile(optimizer='adam', loss='mse')\n",
        "          # Train model\n",
        "          history = DNN.fit(x=x_train, y=y_train, batch_size= lo, epochs=30, verbose= False, validation_split=0.1, shuffle=True)\n",
        "          entrenamiento = DNN.evaluate(x = x_train, y = y_train, verbose=0)\n",
        "          prueba = DNN.evaluate(x = x_test, y = y_test, verbose=0)\n",
        "          res3.append([neuro[f], neuro[k], neuro[ñ], neuro[k],neuro[f],lo, entrenamiento, prueba])"
      ],
      "execution_count": null,
      "outputs": []
    },
    {
      "cell_type": "code",
      "metadata": {
        "id": "Cv2SBBBaiaBV",
        "colab": {
          "base_uri": "https://localhost:8080/"
        },
        "outputId": "2a502d02-1b60-4223-bc15-4e784cf48fba"
      },
      "source": [
        "df2 = pd.DataFrame(res3, columns = ['Neu 1', 'Neu 2', 'Neu 3', 'Neu 4', 'Neu 5', 'Lote', 'Entrenamiento', 'Prueba']) \n",
        "df2 = df2.sort_values(by=['Prueba'])\n",
        "print(df2.head())"
      ],
      "execution_count": null,
      "outputs": [
        {
          "output_type": "stream",
          "text": [
            "    Neu 1  Neu 2  Neu 3  Neu 4  Neu 5  Lote  Entrenamiento    Prueba\n",
            "27     32     64    256     64     32    16       0.453490  0.466440\n",
            "15     32     64   2048     64     32    16       0.459868  0.469951\n",
            "8      32    512   2048    512     32    64       0.449456  0.470266\n",
            "13     32    256   2048    256     32    32       0.447816  0.470581\n",
            "29     32     64    256     64     32    64       0.458199  0.470957\n"
          ],
          "name": "stdout"
        }
      ]
    },
    {
      "cell_type": "code",
      "metadata": {
        "id": "wNfH5BqO9X8Z"
      },
      "source": [
        "# 6 capas ocultas\n",
        "# Valores entre 32 y 2048\n",
        "neuro = [2048,1024,512,256,128,64,32]\n",
        "lote = [32, 64]\n",
        "res3 = []\n",
        "for ñ in range(len(neuro) - 2):\n",
        "  for k in range(ñ + 1, len(neuro) - 1):\n",
        "    for f in range(k + 1, len(neuro)):\n",
        "      for lo in lote:\n",
        "        if random() > 0.7:\n",
        "          DNN = Sequential()\n",
        "          DNN.add(Input(shape = X.shape[1:], name='INPUT'))\n",
        "\n",
        "          DNN.add(Dense(units = neuro[f], activation='relu'))\n",
        "          DNN.add(Dense(units = neuro[k], activation='relu'))\n",
        "          DNN.add(Dense(units = neuro[ñ], activation='relu'))\n",
        "          DNN.add(Dense(units = neuro[ñ], activation='relu'))\n",
        "          DNN.add(Dense(units = neuro[k], activation='relu'))\n",
        "          DNN.add(Dense(units = neuro[f], activation='relu'))\n",
        "\n",
        "          DNN.add(Dense(units = Y.shape[1], activation='linear', name='OUTPUT'))\n",
        "\n",
        "          #DNN.summary()\n",
        "          DNN.compile(optimizer='adam', loss='mse')\n",
        "          # Train model\n",
        "          history = DNN.fit(x=x_train, y=y_train, batch_size= lo, epochs=30, verbose= False, validation_split=0.1, shuffle=True)\n",
        "          entrenamiento = DNN.evaluate(x = x_train, y = y_train, verbose=0)\n",
        "          prueba = DNN.evaluate(x = x_test, y = y_test, verbose=0)\n",
        "          res3.append([neuro[f], neuro[k], neuro[ñ], neuro[ñ], neuro[k],neuro[f],lo, entrenamiento, prueba])"
      ],
      "execution_count": null,
      "outputs": []
    },
    {
      "cell_type": "code",
      "metadata": {
        "id": "AuWpi9089bMG",
        "colab": {
          "base_uri": "https://localhost:8080/"
        },
        "outputId": "d331f1f2-552d-4abf-8df8-b9283d34ac6d"
      },
      "source": [
        "df2 = pd.DataFrame(res3, columns = ['Neu 1', 'Neu 2', 'Neu 3', 'Neu 4', 'Neu 5', 'Neu 6', 'Lote', 'Entrenamiento', 'Prueba']) \n",
        "df2 = df2.sort_values(by=['Prueba'])\n",
        "print(df2.head())"
      ],
      "execution_count": null,
      "outputs": [
        {
          "output_type": "stream",
          "text": [
            "    Neu 1  Neu 2  Neu 3  Neu 4  Neu 5  Neu 6  Lote  Entrenamiento    Prueba\n",
            "21     32    256   1024   1024    256     32    16       0.452689  0.466531\n",
            "14     32    256   2048   2048    256     32    64       0.451590  0.468216\n",
            "1     256   1024   2048   2048   1024    256    32       0.454265  0.468449\n",
            "22     32    256   1024   1024    256     32    32       0.449502  0.470361\n",
            "18    128    256   1024   1024    256    128    16       0.457263  0.470763\n"
          ],
          "name": "stdout"
        }
      ]
    },
    {
      "cell_type": "code",
      "metadata": {
        "id": "sun9_RyLYzMM",
        "colab": {
          "base_uri": "https://localhost:8080/",
          "height": 258
        },
        "outputId": "5cb78f64-badb-4b86-a6ae-fbb49d9fa500"
      },
      "source": [
        "# Plot loss\n",
        "plt.figure(figsize=(12, 5))\n",
        "plt.plot(DNN.history.history['loss'], label='Training', linewidth=2)\n",
        "plt.plot(DNN.history.history['val_loss'], label='Validation', linewidth=2)\n",
        "plt.legend()\n",
        "plt.xlabel('Epoch')\n",
        "plt.ylabel('Loss')\n",
        "plt.grid(True)\n",
        "plt.show()"
      ],
      "execution_count": null,
      "outputs": [
        {
          "output_type": "error",
          "ename": "KeyError",
          "evalue": "ignored",
          "traceback": [
            "\u001b[0;31m---------------------------------------------------------------------------\u001b[0m",
            "\u001b[0;31mKeyError\u001b[0m                                  Traceback (most recent call last)",
            "\u001b[0;32m<ipython-input-75-ed6676b0c436>\u001b[0m in \u001b[0;36m<module>\u001b[0;34m()\u001b[0m\n\u001b[1;32m      1\u001b[0m \u001b[0;31m# Plot loss\u001b[0m\u001b[0;34m\u001b[0m\u001b[0;34m\u001b[0m\u001b[0;34m\u001b[0m\u001b[0m\n\u001b[1;32m      2\u001b[0m \u001b[0mplt\u001b[0m\u001b[0;34m.\u001b[0m\u001b[0mfigure\u001b[0m\u001b[0;34m(\u001b[0m\u001b[0mfigsize\u001b[0m\u001b[0;34m=\u001b[0m\u001b[0;34m(\u001b[0m\u001b[0;36m12\u001b[0m\u001b[0;34m,\u001b[0m \u001b[0;36m5\u001b[0m\u001b[0;34m)\u001b[0m\u001b[0;34m)\u001b[0m\u001b[0;34m\u001b[0m\u001b[0;34m\u001b[0m\u001b[0m\n\u001b[0;32m----> 3\u001b[0;31m \u001b[0mplt\u001b[0m\u001b[0;34m.\u001b[0m\u001b[0mplot\u001b[0m\u001b[0;34m(\u001b[0m\u001b[0mDNN\u001b[0m\u001b[0;34m.\u001b[0m\u001b[0mhistory\u001b[0m\u001b[0;34m.\u001b[0m\u001b[0mhistory\u001b[0m\u001b[0;34m[\u001b[0m\u001b[0;34m'loss'\u001b[0m\u001b[0;34m]\u001b[0m\u001b[0;34m,\u001b[0m \u001b[0mlabel\u001b[0m\u001b[0;34m=\u001b[0m\u001b[0;34m'Training'\u001b[0m\u001b[0;34m,\u001b[0m \u001b[0mlinewidth\u001b[0m\u001b[0;34m=\u001b[0m\u001b[0;36m2\u001b[0m\u001b[0;34m)\u001b[0m\u001b[0;34m\u001b[0m\u001b[0;34m\u001b[0m\u001b[0m\n\u001b[0m\u001b[1;32m      4\u001b[0m \u001b[0mplt\u001b[0m\u001b[0;34m.\u001b[0m\u001b[0mplot\u001b[0m\u001b[0;34m(\u001b[0m\u001b[0mDNN\u001b[0m\u001b[0;34m.\u001b[0m\u001b[0mhistory\u001b[0m\u001b[0;34m.\u001b[0m\u001b[0mhistory\u001b[0m\u001b[0;34m[\u001b[0m\u001b[0;34m'val_loss'\u001b[0m\u001b[0;34m]\u001b[0m\u001b[0;34m,\u001b[0m \u001b[0mlabel\u001b[0m\u001b[0;34m=\u001b[0m\u001b[0;34m'Validation'\u001b[0m\u001b[0;34m,\u001b[0m \u001b[0mlinewidth\u001b[0m\u001b[0;34m=\u001b[0m\u001b[0;36m2\u001b[0m\u001b[0;34m)\u001b[0m\u001b[0;34m\u001b[0m\u001b[0;34m\u001b[0m\u001b[0m\n\u001b[1;32m      5\u001b[0m \u001b[0mplt\u001b[0m\u001b[0;34m.\u001b[0m\u001b[0mlegend\u001b[0m\u001b[0;34m(\u001b[0m\u001b[0;34m)\u001b[0m\u001b[0;34m\u001b[0m\u001b[0;34m\u001b[0m\u001b[0m\n",
            "\u001b[0;31mKeyError\u001b[0m: 'loss'"
          ]
        },
        {
          "output_type": "display_data",
          "data": {
            "text/plain": [
              "<Figure size 864x360 with 0 Axes>"
            ]
          },
          "metadata": {
            "tags": []
          }
        }
      ]
    },
    {
      "cell_type": "code",
      "metadata": {
        "id": "IJVCymAmcIB_"
      },
      "source": [
        "# Generalization metric (opcional)\n",
        "min_loss = np.min([DNN.history.history['loss'][-1], DNN.history.history['val_loss'][-1]])\n",
        "max_loss = np.max([DNN.history.history['loss'][-1], DNN.history.history['val_loss'][-1]])\n",
        "general_loss = (max_loss - min_loss) / max_loss\n",
        "print(f\"Generalization loss: {general_loss:6.4f}%\")"
      ],
      "execution_count": null,
      "outputs": []
    },
    {
      "cell_type": "code",
      "metadata": {
        "id": "jqWaiy_fb0-x"
      },
      "source": [
        "# Compute test loss\n",
        "loss_test = DNN.evaluate(x=x_test, y=y_test, verbose=False)\n",
        "print(\"Test loss:\", loss_test)"
      ],
      "execution_count": null,
      "outputs": []
    },
    {
      "cell_type": "code",
      "metadata": {
        "id": "lQxF7hMCb8Cp"
      },
      "source": [
        "# Predict on test set\n",
        "y_test_hat = DNN.predict(x=x_test)\n",
        "print(y_test_hat.shape)"
      ],
      "execution_count": null,
      "outputs": []
    },
    {
      "cell_type": "code",
      "metadata": {
        "id": "tfAf4cIqcGyQ"
      },
      "source": [
        "# Plot y_test_hat\n",
        "indx = np.random.permutation(len(y_test))[:500]\n",
        "plt.scatter(y_test[indx, 0], y_test[indx, 1], c='b', label='y')\n",
        "plt.scatter(y_test_hat[indx, 0], y_test_hat[indx, 1], c='r', marker='+', label='y_h')\n",
        "\n",
        "plt.legend()\n",
        "plt.grid(True)\n",
        "plt.xlabel('PM2.5')\n",
        "plt.ylabel('NO2')\n",
        "plt.title('Test set and its predictions')\n",
        "plt.show()"
      ],
      "execution_count": null,
      "outputs": []
    },
    {
      "cell_type": "code",
      "metadata": {
        "id": "euURHYHPQ9B3"
      },
      "source": [
        "# Define training parameters\n",
        "#from tensorflow.keras.optimizers import SGD\n",
        "#sgd = SGD(learning_rate=0.02, momentum=0.6)\n",
        "#DNN.compile(optimizer=sgd, loss='mse')\n",
        "#DNN.compile(optimizer='adam', loss='mse')"
      ],
      "execution_count": null,
      "outputs": []
    }
  ]
}